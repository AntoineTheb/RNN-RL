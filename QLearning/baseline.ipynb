{
 "cells": [
  {
   "cell_type": "code",
   "execution_count": 1,
   "id": "initial_id",
   "metadata": {
    "collapsed": true,
    "ExecuteTime": {
     "end_time": "2023-10-27T17:18:08.064955871Z",
     "start_time": "2023-10-27T17:18:05.137476563Z"
    }
   },
   "outputs": [],
   "source": [
    "import pandas as pd\n",
    "import numpy as np\n",
    "import torch\n",
    "import torch.nn as nn\n",
    "from tqdm import tqdm\n",
    "from datetime import datetime\n",
    "from torch.utils.data import Dataset, DataLoader\n",
    "from glob import glob"
   ]
  },
  {
   "cell_type": "code",
   "execution_count": 2,
   "outputs": [],
   "source": [
    "DATA_PATH = \"../data\"\n",
    "\n",
    "DEVICE = \"cpu\"\n",
    "NUM_TAGS = 256\n",
    "EMBEDDING_DIM = 768\n",
    "np.random.seed(42)\n",
    "\n",
    "TRACK_EMBEDDING_NUM = 5"
   ],
   "metadata": {
    "collapsed": false,
    "ExecuteTime": {
     "end_time": "2023-10-27T17:18:08.077202492Z",
     "start_time": "2023-10-27T17:18:08.066295756Z"
    }
   },
   "id": "51fdcff8136c1987"
  },
  {
   "cell_type": "code",
   "execution_count": 3,
   "outputs": [
    {
     "name": "stderr",
     "output_type": "stream",
     "text": [
      "100%|██████████| 5/5 [00:00<00:00, 584.13it/s]\n"
     ]
    }
   ],
   "source": [
    "embeddings = glob(f\"{DATA_PATH}/track_embeddings/*\")[:TRACK_EMBEDDING_NUM]\n",
    "track_idx2embeds = {}\n",
    "for fn in tqdm(embeddings):\n",
    "    track_idx = int(fn.split('/')[-1].split('.')[0])\n",
    "    embeds = np.load(fn)\n",
    "    track_idx2embeds[track_idx] = embeds\n",
    "\n",
    "track_ids = list(track_idx2embeds.keys())"
   ],
   "metadata": {
    "collapsed": false,
    "ExecuteTime": {
     "end_time": "2023-10-27T17:18:08.264014414Z",
     "start_time": "2023-10-27T17:18:08.073497452Z"
    }
   },
   "id": "37ddd3404e129268"
  },
  {
   "cell_type": "code",
   "execution_count": 4,
   "outputs": [
    {
     "data": {
      "text/plain": "[30121, 18560, 5785, 68703, 66516]"
     },
     "execution_count": 4,
     "metadata": {},
     "output_type": "execute_result"
    }
   ],
   "source": [
    "track_ids"
   ],
   "metadata": {
    "collapsed": false,
    "ExecuteTime": {
     "end_time": "2023-10-27T17:18:08.314380694Z",
     "start_time": "2023-10-27T17:18:08.261060405Z"
    }
   },
   "id": "d50ba326d171e386"
  },
  {
   "cell_type": "code",
   "execution_count": 5,
   "outputs": [],
   "source": [
    "df_train = pd.read_csv(f'{DATA_PATH}/train.csv')\n",
    "df_test = pd.read_csv(f'{DATA_PATH}/test.csv')\n",
    "\n",
    "train_mask = df_train[\"track\"].isin(track_ids)\n",
    "df_train = df_train[train_mask]\n",
    "\n",
    "test_mask = df_test[\"track\"].isin(track_ids)\n",
    "df_test = df_test[test_mask]"
   ],
   "metadata": {
    "collapsed": false,
    "ExecuteTime": {
     "end_time": "2023-10-27T17:18:08.318198060Z",
     "start_time": "2023-10-27T17:18:08.271712441Z"
    }
   },
   "id": "992ac7dbae089e9f"
  },
  {
   "cell_type": "code",
   "execution_count": 6,
   "outputs": [],
   "source": [
    "import gym\n",
    "from gym import spaces\n",
    "from gym.utils import seeding"
   ],
   "metadata": {
    "collapsed": false,
    "ExecuteTime": {
     "end_time": "2023-10-27T17:18:08.396968511Z",
     "start_time": "2023-10-27T17:18:08.310774653Z"
    }
   },
   "id": "96c5eabd448d19d7"
  },
  {
   "cell_type": "code",
   "execution_count": 7,
   "outputs": [],
   "source": [
    "class CustomEnvironment(gym.Env):\n",
    "    def __init__(self, track_id, true_tags):\n",
    "        self.track_id = track_id\n",
    "        self.true_tags = true_tags\n",
    "        self.embeddings = self._get_embeds()\n",
    "        self.current_step = 0\n",
    "        self.max_steps = self.embeddings.shape[0] - 1\n",
    "        self.action_space = spaces.Discrete(NUM_TAGS)\n",
    "        self.observation_space = spaces.Box(low=0, high=1, shape=(NUM_TAGS + EMBEDDING_DIM,))        \n",
    "        self._state = np.zeros(NUM_TAGS)\n",
    "    \n",
    "    def is_episode_done(self):\n",
    "        if self.current_step >= self.max_steps:\n",
    "            return True\n",
    "        return False\n",
    "    \n",
    "    def step(self, action):\n",
    "        reward = self.calculate_reward(action)\n",
    "        self._state[action] = 1\n",
    "        \n",
    "        done = self.is_episode_done()\n",
    "        if not done:\n",
    "            self.current_step += 1\n",
    "            print(self._state.shape)\n",
    "            self.observation_space[NUM_TAGS:] = self.embeddings[self.current_step]\n",
    "        return self._state, reward, done, {}\n",
    "    \n",
    "    def reset(self, **kwargs):\n",
    "        self._state = np.zeros(self.action_space.n)\n",
    "        self.current_step = 0 \n",
    "        return self._state\n",
    "    \n",
    "    def render(self, mode=\"human\"): ...\n",
    "    \n",
    "    def calculate_reward(self, action):\n",
    "        reward = 0\n",
    "        if self._state[action] == 0:\n",
    "            reward += 1\n",
    "            if action in self.true_tags:\n",
    "                reward += 1\n",
    "            else:\n",
    "                reward -= 1.25\n",
    "        else:\n",
    "            if action in self.true_tags :\n",
    "                reward -= 0.5\n",
    "            else:\n",
    "                reward -= 1\n",
    "        return reward\n",
    "    \n",
    "    def _get_embeds(self):\n",
    "        return track_idx2embeds[self.track_id]\n"
   ],
   "metadata": {
    "collapsed": false,
    "ExecuteTime": {
     "end_time": "2023-10-27T17:18:08.397366930Z",
     "start_time": "2023-10-27T17:18:08.396840155Z"
    }
   },
   "id": "45a32daf417b2575"
  },
  {
   "cell_type": "code",
   "execution_count": 8,
   "outputs": [
    {
     "data": {
      "text/plain": "       track            tags\n8291   30121          23,208\n24036  68703  0,31,56,88,149\n39001  18560        0,33,181\n42500  66516       0,105,181\n46850   5785       2,6,9,117",
      "text/html": "<div>\n<style scoped>\n    .dataframe tbody tr th:only-of-type {\n        vertical-align: middle;\n    }\n\n    .dataframe tbody tr th {\n        vertical-align: top;\n    }\n\n    .dataframe thead th {\n        text-align: right;\n    }\n</style>\n<table border=\"1\" class=\"dataframe\">\n  <thead>\n    <tr style=\"text-align: right;\">\n      <th></th>\n      <th>track</th>\n      <th>tags</th>\n    </tr>\n  </thead>\n  <tbody>\n    <tr>\n      <th>8291</th>\n      <td>30121</td>\n      <td>23,208</td>\n    </tr>\n    <tr>\n      <th>24036</th>\n      <td>68703</td>\n      <td>0,31,56,88,149</td>\n    </tr>\n    <tr>\n      <th>39001</th>\n      <td>18560</td>\n      <td>0,33,181</td>\n    </tr>\n    <tr>\n      <th>42500</th>\n      <td>66516</td>\n      <td>0,105,181</td>\n    </tr>\n    <tr>\n      <th>46850</th>\n      <td>5785</td>\n      <td>2,6,9,117</td>\n    </tr>\n  </tbody>\n</table>\n</div>"
     },
     "execution_count": 8,
     "metadata": {},
     "output_type": "execute_result"
    }
   ],
   "source": [
    "df_train"
   ],
   "metadata": {
    "collapsed": false,
    "ExecuteTime": {
     "end_time": "2023-10-27T17:18:08.400247686Z",
     "start_time": "2023-10-27T17:18:08.397140106Z"
    }
   },
   "id": "e5528b31b91db63b"
  },
  {
   "cell_type": "code",
   "execution_count": 9,
   "outputs": [
    {
     "name": "stdout",
     "output_type": "stream",
     "text": [
      "(256,)\n"
     ]
    },
    {
     "ename": "TypeError",
     "evalue": "'Box' object does not support item assignment",
     "output_type": "error",
     "traceback": [
      "\u001B[0;31m---------------------------------------------------------------------------\u001B[0m",
      "\u001B[0;31mTypeError\u001B[0m                                 Traceback (most recent call last)",
      "Cell \u001B[0;32mIn[9], line 21\u001B[0m\n\u001B[1;32m     18\u001B[0m act \u001B[38;5;241m=\u001B[39m env\u001B[38;5;241m.\u001B[39maction_space\u001B[38;5;241m.\u001B[39msample()\n\u001B[1;32m     20\u001B[0m \u001B[38;5;66;03m# Take a step in the environment\u001B[39;00m\n\u001B[0;32m---> 21\u001B[0m observation, reward, done, _ \u001B[38;5;241m=\u001B[39m \u001B[43menv\u001B[49m\u001B[38;5;241;43m.\u001B[39;49m\u001B[43mstep\u001B[49m\u001B[43m(\u001B[49m\u001B[43mact\u001B[49m\u001B[43m)\u001B[49m\n\u001B[1;32m     23\u001B[0m \u001B[38;5;66;03m# Accumulate the reward\u001B[39;00m\n\u001B[1;32m     24\u001B[0m total_reward \u001B[38;5;241m+\u001B[39m\u001B[38;5;241m=\u001B[39m reward\n",
      "Cell \u001B[0;32mIn[7], line 25\u001B[0m, in \u001B[0;36mCustomEnvironment.step\u001B[0;34m(self, action)\u001B[0m\n\u001B[1;32m     23\u001B[0m     \u001B[38;5;28mself\u001B[39m\u001B[38;5;241m.\u001B[39mcurrent_step \u001B[38;5;241m+\u001B[39m\u001B[38;5;241m=\u001B[39m \u001B[38;5;241m1\u001B[39m\n\u001B[1;32m     24\u001B[0m     \u001B[38;5;28mprint\u001B[39m(\u001B[38;5;28mself\u001B[39m\u001B[38;5;241m.\u001B[39m_state\u001B[38;5;241m.\u001B[39mshape)\n\u001B[0;32m---> 25\u001B[0m     \u001B[38;5;28;43mself\u001B[39;49m\u001B[38;5;241;43m.\u001B[39;49m\u001B[43mobservation_space\u001B[49m\u001B[43m[\u001B[49m\u001B[43mNUM_TAGS\u001B[49m\u001B[43m:\u001B[49m\u001B[43m]\u001B[49m \u001B[38;5;241m=\u001B[39m \u001B[38;5;28mself\u001B[39m\u001B[38;5;241m.\u001B[39membeddings[\u001B[38;5;28mself\u001B[39m\u001B[38;5;241m.\u001B[39mcurrent_step]\n\u001B[1;32m     26\u001B[0m \u001B[38;5;28;01mreturn\u001B[39;00m \u001B[38;5;28mself\u001B[39m\u001B[38;5;241m.\u001B[39m_state, reward, done, {}\n",
      "\u001B[0;31mTypeError\u001B[0m: 'Box' object does not support item assignment"
     ]
    }
   ],
   "source": [
    "TRACK_ID, TRUE_TAGS = df_train.iloc[2, :]\n",
    "TRUE_TAGS = list(map(int, TRUE_TAGS.split(\",\")))\n",
    "\n",
    "# Create the custom environment\n",
    "env = CustomEnvironment(TRACK_ID, TRUE_TAGS)\n",
    "\n",
    "# Number of episodes to run for testing\n",
    "num_episodes = 5\n",
    "\n",
    "for episode in range(num_episodes):\n",
    "    observation = env.reset()\n",
    "    # print(observation)\n",
    "    done = False\n",
    "    total_reward = 0\n",
    "\n",
    "    while not done:\n",
    "        # Choose an action (for testing, you can choose a random action)\n",
    "        act = env.action_space.sample()\n",
    "\n",
    "        # Take a step in the environment\n",
    "        observation, reward, done, _ = env.step(act)\n",
    "\n",
    "        # Accumulate the reward\n",
    "        total_reward += reward\n",
    "\n",
    "    print(f\"Episode {episode + 1}: Total Reward = {total_reward}\")\n",
    "\n",
    "env.close()"
   ],
   "metadata": {
    "collapsed": false,
    "ExecuteTime": {
     "end_time": "2023-10-27T17:18:08.540099382Z",
     "start_time": "2023-10-27T17:18:08.397469682Z"
    }
   },
   "id": "87dc705e6f28fafd"
  },
  {
   "cell_type": "code",
   "execution_count": null,
   "outputs": [],
   "source": [],
   "metadata": {
    "collapsed": false
   },
   "id": "a102bf324a961834"
  }
 ],
 "metadata": {
  "kernelspec": {
   "display_name": "Python 3",
   "language": "python",
   "name": "python3"
  },
  "language_info": {
   "codemirror_mode": {
    "name": "ipython",
    "version": 2
   },
   "file_extension": ".py",
   "mimetype": "text/x-python",
   "name": "python",
   "nbconvert_exporter": "python",
   "pygments_lexer": "ipython2",
   "version": "2.7.6"
  }
 },
 "nbformat": 4,
 "nbformat_minor": 5
}
