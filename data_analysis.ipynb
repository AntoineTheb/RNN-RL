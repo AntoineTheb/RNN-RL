{
 "cells": [
  {
   "cell_type": "code",
   "execution_count": 1,
   "id": "initial_id",
   "metadata": {
    "collapsed": true,
    "ExecuteTime": {
     "end_time": "2023-10-24T12:43:59.231366737Z",
     "start_time": "2023-10-24T12:43:58.825012828Z"
    }
   },
   "outputs": [],
   "source": [
    "import pandas as pd\n",
    "import numpy as np\n",
    "from tqdm import tqdm"
   ]
  },
  {
   "cell_type": "code",
   "execution_count": 6,
   "outputs": [],
   "source": [
    "df_train = pd.read_csv('data/train.csv')\n",
    "df_test = pd.read_csv('data/test.csv')\n",
    "df_sample_submission = pd.read_csv(\"data/sample_submission.csv\")"
   ],
   "metadata": {
    "collapsed": false,
    "ExecuteTime": {
     "end_time": "2023-10-24T12:46:33.821101289Z",
     "start_time": "2023-10-24T12:46:33.250345767Z"
    }
   },
   "id": "af27633162a342eb"
  },
  {
   "cell_type": "code",
   "execution_count": 5,
   "outputs": [
    {
     "name": "stdout",
     "output_type": "stream",
     "text": [
      "<class 'pandas.core.frame.DataFrame'>\n",
      "RangeIndex: 51134 entries, 0 to 51133\n",
      "Data columns (total 2 columns):\n",
      " #   Column  Non-Null Count  Dtype \n",
      "---  ------  --------------  ----- \n",
      " 0   track   51134 non-null  int64 \n",
      " 1   tags    51134 non-null  object\n",
      "dtypes: int64(1), object(1)\n",
      "memory usage: 799.1+ KB\n"
     ]
    }
   ],
   "source": [
    "df_train.info()"
   ],
   "metadata": {
    "collapsed": false,
    "ExecuteTime": {
     "end_time": "2023-10-24T12:44:29.232198997Z",
     "start_time": "2023-10-24T12:44:29.111309849Z"
    }
   },
   "id": "dcad3e54966f589c"
  },
  {
   "cell_type": "code",
   "execution_count": 7,
   "outputs": [
    {
     "data": {
      "text/plain": "   track                                         prediction\n0  17730  0.70960176,0.5388783,0.47950438,0.38386157,0.5...\n1  32460  0.38759363,0.7854409,0.6334685,0.15595832,0.31...\n2  11288  0.4377134,0.67682254,0.21612483,0.36870104,0.3...\n3  18523  0.30342606,0.46338987,0.58592767,0.37125942,0....\n4  71342  0.42754504,0.30815452,0.74610263,0.4233336,0.9...",
      "text/html": "<div>\n<style scoped>\n    .dataframe tbody tr th:only-of-type {\n        vertical-align: middle;\n    }\n\n    .dataframe tbody tr th {\n        vertical-align: top;\n    }\n\n    .dataframe thead th {\n        text-align: right;\n    }\n</style>\n<table border=\"1\" class=\"dataframe\">\n  <thead>\n    <tr style=\"text-align: right;\">\n      <th></th>\n      <th>track</th>\n      <th>prediction</th>\n    </tr>\n  </thead>\n  <tbody>\n    <tr>\n      <th>0</th>\n      <td>17730</td>\n      <td>0.70960176,0.5388783,0.47950438,0.38386157,0.5...</td>\n    </tr>\n    <tr>\n      <th>1</th>\n      <td>32460</td>\n      <td>0.38759363,0.7854409,0.6334685,0.15595832,0.31...</td>\n    </tr>\n    <tr>\n      <th>2</th>\n      <td>11288</td>\n      <td>0.4377134,0.67682254,0.21612483,0.36870104,0.3...</td>\n    </tr>\n    <tr>\n      <th>3</th>\n      <td>18523</td>\n      <td>0.30342606,0.46338987,0.58592767,0.37125942,0....</td>\n    </tr>\n    <tr>\n      <th>4</th>\n      <td>71342</td>\n      <td>0.42754504,0.30815452,0.74610263,0.4233336,0.9...</td>\n    </tr>\n  </tbody>\n</table>\n</div>"
     },
     "execution_count": 7,
     "metadata": {},
     "output_type": "execute_result"
    }
   ],
   "source": [
    "df_sample_submission.head()"
   ],
   "metadata": {
    "collapsed": false,
    "ExecuteTime": {
     "end_time": "2023-10-24T12:46:39.027012029Z",
     "start_time": "2023-10-24T12:46:39.008638648Z"
    }
   },
   "id": "8f4aa9b5dd88eefb"
  },
  {
   "cell_type": "code",
   "execution_count": null,
   "outputs": [],
   "source": [],
   "metadata": {
    "collapsed": false
   },
   "id": "7a823a55f382553c"
  }
 ],
 "metadata": {
  "kernelspec": {
   "display_name": "Python 3",
   "language": "python",
   "name": "python3"
  },
  "language_info": {
   "codemirror_mode": {
    "name": "ipython",
    "version": 2
   },
   "file_extension": ".py",
   "mimetype": "text/x-python",
   "name": "python",
   "nbconvert_exporter": "python",
   "pygments_lexer": "ipython2",
   "version": "2.7.6"
  }
 },
 "nbformat": 4,
 "nbformat_minor": 5
}
